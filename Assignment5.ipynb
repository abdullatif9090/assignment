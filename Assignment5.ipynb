{
  "nbformat": 4,
  "nbformat_minor": 0,
  "metadata": {
    "colab": {
      "provenance": []
    },
    "kernelspec": {
      "name": "python3",
      "display_name": "Python 3"
    },
    "language_info": {
      "name": "python"
    }
  },
  "cells": [
    {
      "cell_type": "markdown",
      "metadata": {
        "id": "84d5fb75"
      },
      "source": [
        "1. Write a Python program to print the numbers from 1 to 10 using a for loop."
      ]
    },
    {
      "cell_type": "code",
      "metadata": {
        "colab": {
          "base_uri": "https://localhost:8080/"
        },
        "id": "50a2bb5a",
        "outputId": "261af281-31fa-4d4c-dbc5-ca3ada086209"
      },
      "source": [
        "for i in range(1, 11):\n",
        "    print(i)"
      ],
      "execution_count": 1,
      "outputs": [
        {
          "output_type": "stream",
          "name": "stdout",
          "text": [
            "1\n",
            "2\n",
            "3\n",
            "4\n",
            "5\n",
            "6\n",
            "7\n",
            "8\n",
            "9\n",
            "10\n"
          ]
        }
      ]
    },
    {
      "cell_type": "markdown",
      "metadata": {
        "id": "49bd977c"
      },
      "source": [
        "2. Write a Python program to print the numbers from 20 to 1 using a while loop."
      ]
    },
    {
      "cell_type": "code",
      "metadata": {
        "colab": {
          "base_uri": "https://localhost:8080/"
        },
        "id": "8fd9efd5",
        "outputId": "0575fbf1-68bf-47ae-952a-6605d4df48f4"
      },
      "source": [
        "i = 20\n",
        "while i >= 1:\n",
        "    print(i)\n",
        "    i -= 1"
      ],
      "execution_count": 2,
      "outputs": [
        {
          "output_type": "stream",
          "name": "stdout",
          "text": [
            "20\n",
            "19\n",
            "18\n",
            "17\n",
            "16\n",
            "15\n",
            "14\n",
            "13\n",
            "12\n",
            "11\n",
            "10\n",
            "9\n",
            "8\n",
            "7\n",
            "6\n",
            "5\n",
            "4\n",
            "3\n",
            "2\n",
            "1\n"
          ]
        }
      ]
    },
    {
      "cell_type": "markdown",
      "metadata": {
        "id": "bbfa7ff6"
      },
      "source": [
        "3. Write a program to print even numbers from 1 to 10."
      ]
    },
    {
      "cell_type": "code",
      "metadata": {
        "colab": {
          "base_uri": "https://localhost:8080/"
        },
        "id": "ffc08f41",
        "outputId": "914879c8-250f-4dae-fd54-bc2087364f41"
      },
      "source": [
        "for i in range(2, 11, 2):\n",
        "    print(i)"
      ],
      "execution_count": 3,
      "outputs": [
        {
          "output_type": "stream",
          "name": "stdout",
          "text": [
            "2\n",
            "4\n",
            "6\n",
            "8\n",
            "10\n"
          ]
        }
      ]
    },
    {
      "cell_type": "markdown",
      "metadata": {
        "id": "29f28006"
      },
      "source": [
        "4. Write a program that prompts the user to enter a number n and prints all the numbers from 1 to n."
      ]
    },
    {
      "cell_type": "code",
      "metadata": {
        "colab": {
          "base_uri": "https://localhost:8080/"
        },
        "id": "764cd591",
        "outputId": "4eff72e5-57f4-4c8c-b659-ea5602a27c12"
      },
      "source": [
        "n = int(input(\"Enter a number: \"))\n",
        "for i in range(1, n + 1):\n",
        "    print(i)"
      ],
      "execution_count": 4,
      "outputs": [
        {
          "output_type": "stream",
          "name": "stdout",
          "text": [
            "Enter a number: 10\n",
            "1\n",
            "2\n",
            "3\n",
            "4\n",
            "5\n",
            "6\n",
            "7\n",
            "8\n",
            "9\n",
            "10\n"
          ]
        }
      ]
    },
    {
      "cell_type": "markdown",
      "metadata": {
        "id": "41a47c32"
      },
      "source": [
        "5. Write a program that prompts the user to enter a number n, and then prints all the odd numbers between 1 and n."
      ]
    },
    {
      "cell_type": "code",
      "metadata": {
        "colab": {
          "base_uri": "https://localhost:8080/"
        },
        "id": "a4e70c9f",
        "outputId": "efe01fc5-3ae0-4bcf-d9e8-287109467860"
      },
      "source": [
        "n = int(input(\"Enter a number: \"))\n",
        "for i in range(1, n + 1, 2):\n",
        "    print(i)"
      ],
      "execution_count": 5,
      "outputs": [
        {
          "output_type": "stream",
          "name": "stdout",
          "text": [
            "Enter a number: 10\n",
            "1\n",
            "3\n",
            "5\n",
            "7\n",
            "9\n"
          ]
        }
      ]
    },
    {
      "cell_type": "markdown",
      "metadata": {
        "id": "03f0dfd4"
      },
      "source": [
        "6. Write a program that prints 'Happy Birthday!' five times on screen."
      ]
    },
    {
      "cell_type": "code",
      "metadata": {
        "colab": {
          "base_uri": "https://localhost:8080/"
        },
        "id": "3eb99d6b",
        "outputId": "c9fd73c0-9317-4121-9014-37876c2dbad7"
      },
      "source": [
        "for _ in range(5):\n",
        "    print(\"Happy Birthday!\")"
      ],
      "execution_count": 6,
      "outputs": [
        {
          "output_type": "stream",
          "name": "stdout",
          "text": [
            "Happy Birthday!\n",
            "Happy Birthday!\n",
            "Happy Birthday!\n",
            "Happy Birthday!\n",
            "Happy Birthday!\n"
          ]
        }
      ]
    },
    {
      "cell_type": "markdown",
      "metadata": {
        "id": "a9352e91"
      },
      "source": [
        "7. Write a program that takes a number n as input from the user and generates the first n terms of the series formed by squaring the natural numbers."
      ]
    },
    {
      "cell_type": "code",
      "metadata": {
        "colab": {
          "base_uri": "https://localhost:8080/"
        },
        "id": "ca3ae088",
        "outputId": "7fb98f14-48a8-42ec-9744-84483856008e"
      },
      "source": [
        "n = int(input(\"Enter a number: \"))\n",
        "print(\"The first\", n, \"terms of the series are:\")\n",
        "for i in range(1, n + 1):\n",
        "    print(i**2, end=\" \")\n",
        "print()"
      ],
      "execution_count": 7,
      "outputs": [
        {
          "output_type": "stream",
          "name": "stdout",
          "text": [
            "Enter a number: 5\n",
            "The first 5 terms of the series are:\n",
            "1 4 9 16 25 \n"
          ]
        }
      ]
    },
    {
      "cell_type": "markdown",
      "metadata": {
        "id": "fba9294b"
      },
      "source": [
        "8. Write a program that prompts the user to input a number and prints its multiplication table."
      ]
    },
    {
      "cell_type": "code",
      "metadata": {
        "colab": {
          "base_uri": "https://localhost:8080/"
        },
        "id": "77aa0357",
        "outputId": "279eb956-c6af-4fe6-8a0b-6cc4497df509"
      },
      "source": [
        "n = int(input(\"Enter a number: \"))\n",
        "print(\"Multiplication table for\", n)\n",
        "for i in range(1, 11):\n",
        "    print(n, \"x\", i, \"=\", n * i)"
      ],
      "execution_count": 8,
      "outputs": [
        {
          "output_type": "stream",
          "name": "stdout",
          "text": [
            "Enter a number: 2\n",
            "Multiplication table for 2\n",
            "2 x 1 = 2\n",
            "2 x 2 = 4\n",
            "2 x 3 = 6\n",
            "2 x 4 = 8\n",
            "2 x 5 = 10\n",
            "2 x 6 = 12\n",
            "2 x 7 = 14\n",
            "2 x 8 = 16\n",
            "2 x 9 = 18\n",
            "2 x 10 = 20\n"
          ]
        }
      ]
    },
    {
      "cell_type": "markdown",
      "metadata": {
        "id": "cd314e37"
      },
      "source": [
        "9. Write a Python program to print the first 8 terms of an arithmetic progression starting with 3 and having a common difference of 4."
      ]
    },
    {
      "cell_type": "code",
      "metadata": {
        "colab": {
          "base_uri": "https://localhost:8080/"
        },
        "id": "bb5d1ec0",
        "outputId": "4926b09f-3a3f-4085-9ae3-c4708090c89c"
      },
      "source": [
        "a = 3\n",
        "d = 4\n",
        "for i in range(8):\n",
        "    term = a + i * d\n",
        "    print(term, end=\" \")\n",
        "print()"
      ],
      "execution_count": 9,
      "outputs": [
        {
          "output_type": "stream",
          "name": "stdout",
          "text": [
            "3 7 11 15 19 23 27 31 \n"
          ]
        }
      ]
    },
    {
      "cell_type": "markdown",
      "metadata": {
        "id": "d0d6891f"
      },
      "source": [
        "10. Write a Python program to print the first 6 terms of a geometric sequence starting with 2 and having a common ratio of 3."
      ]
    },
    {
      "cell_type": "code",
      "metadata": {
        "colab": {
          "base_uri": "https://localhost:8080/"
        },
        "id": "9e197f79",
        "outputId": "4d6b45ef-9214-4971-847f-fb1575f7c3ee"
      },
      "source": [
        "a = 2\n",
        "r = 3\n",
        "for i in range(6):\n",
        "    term = a * (r**i)\n",
        "    print(term, end=\" \")\n",
        "print()"
      ],
      "execution_count": 10,
      "outputs": [
        {
          "output_type": "stream",
          "name": "stdout",
          "text": [
            "2 6 18 54 162 486 \n"
          ]
        }
      ]
    },
    {
      "cell_type": "markdown",
      "metadata": {
        "id": "c8f039ea"
      },
      "source": [
        "11. Write a program that asks the user for a positive integer value. The program should calculate the sum of all the integers from 1 up to the number entered."
      ]
    },
    {
      "cell_type": "code",
      "metadata": {
        "colab": {
          "base_uri": "https://localhost:8080/"
        },
        "id": "a09df25f",
        "outputId": "44ee4959-59d6-42fd-9c59-72e3e66927f3"
      },
      "source": [
        "n = int(input(\"Enter a positive integer: \"))\n",
        "total_sum = 0\n",
        "for i in range(1, n + 1):\n",
        "    total_sum += i\n",
        "print(\"The sum of integers from 1 to\", n, \"is:\", total_sum)"
      ],
      "execution_count": 11,
      "outputs": [
        {
          "output_type": "stream",
          "name": "stdout",
          "text": [
            "Enter a positive integer: 10\n",
            "The sum of integers from 1 to 10 is: 55\n"
          ]
        }
      ]
    },
    {
      "cell_type": "markdown",
      "metadata": {
        "id": "ff39ad65"
      },
      "source": [
        "12. write a program that takes a positive integer N as input and calculates the sum of the reciprocals of all numbers from 1 up to N. The program should display the final sum."
      ]
    },
    {
      "cell_type": "code",
      "metadata": {
        "colab": {
          "base_uri": "https://localhost:8080/"
        },
        "id": "2f99f13a",
        "outputId": "f0d01386-42eb-4bcd-ed35-b474e08d8502"
      },
      "source": [
        "N = int(input(\"Enter a positive integer: \"))\n",
        "reciprocal_sum = 0\n",
        "for i in range(1, N + 1):\n",
        "    reciprocal_sum += 1 / i\n",
        "print(\"The sum of reciprocals from 1 to\", N, \"is:\", round(reciprocal_sum, 2))"
      ],
      "execution_count": 12,
      "outputs": [
        {
          "output_type": "stream",
          "name": "stdout",
          "text": [
            "Enter a positive integer: 5\n",
            "The sum of reciprocals from 1 to 5 is: 2.28\n"
          ]
        }
      ]
    },
    {
      "cell_type": "markdown",
      "metadata": {
        "id": "f2f017ea"
      },
      "source": [
        "13. Write a program that prompts the user to enter a number and repeats this process 5 times. The program should accumulate the numbers entered and then display the final running total."
      ]
    },
    {
      "cell_type": "code",
      "metadata": {
        "colab": {
          "base_uri": "https://localhost:8080/"
        },
        "id": "60130ac5",
        "outputId": "025347b2-a1ad-4f4d-dc7a-2b150508e1e7"
      },
      "source": [
        "total = 0\n",
        "for _ in range(5):\n",
        "    num = int(input(\"Enter a number: \"))\n",
        "    total += num\n",
        "print(\"The final running total is:\", total)"
      ],
      "execution_count": 13,
      "outputs": [
        {
          "output_type": "stream",
          "name": "stdout",
          "text": [
            "Enter a number: 10\n",
            "Enter a number: 15\n",
            "Enter a number: 20\n",
            "Enter a number: 35\n",
            "Enter a number: 40\n",
            "The final running total is: 120\n"
          ]
        }
      ]
    },
    {
      "cell_type": "markdown",
      "metadata": {
        "id": "47b60fae"
      },
      "source": [
        "14. Write a program that prompts the user to enter a positive integer and calculates its\n",
        "factorial. The factorial of a positive integer 'n' is denoted as 'n!' and is calculated by\n",
        "multiplying all the integers from 1 to 'n' together. For example, the factorial of 5\n",
        "(denoted as 5!) is calculated as 1 x 2 x 3 x 4 x 5.\n",
        "The program should display the factorial value if the input is a positive number, or\n",
        "display a message stating that the factorial does not exist for negative numbers.\n",
        "Additionally, for an input of zero, the program should output that the factorial of 0 is 1."
      ]
    },
    {
      "cell_type": "code",
      "metadata": {
        "colab": {
          "base_uri": "https://localhost:8080/"
        },
        "id": "c9c22fe6",
        "outputId": "2d1ac919-a607-4d9b-c838-ef2654f876aa"
      },
      "source": [
        "n = int(input(\"Enter a positive integer: \"))\n",
        "if n < 0:\n",
        "    print(\"Factorial does not exist for negative numbers.\")\n",
        "elif n == 0:\n",
        "    print(\"The factorial of 0 is 1.\")\n",
        "else:\n",
        "    factorial = 1\n",
        "    for i in range(1, n + 1):\n",
        "        factorial *= i\n",
        "    print(\"The factorial of\", n, \"is:\", factorial)"
      ],
      "execution_count": 14,
      "outputs": [
        {
          "output_type": "stream",
          "name": "stdout",
          "text": [
            "Enter a positive integer: 5\n",
            "The factorial of 5 is: 120\n"
          ]
        }
      ]
    },
    {
      "cell_type": "markdown",
      "metadata": {
        "id": "675eaedc"
      },
      "source": [
        "15. Write a Python program that prompts the user to enter a base number and an\n",
        "exponent, and then calculates the power of the base to the exponent. The program\n",
        "should not use the exponentiation operator (**) or the math.pow() function. The\n",
        "program should handle both positive and negative exponents."
      ]
    },
    {
      "cell_type": "code",
      "metadata": {
        "colab": {
          "base_uri": "https://localhost:8080/"
        },
        "id": "eead3b5f",
        "outputId": "8847f6b2-b9a3-46a9-97c7-7b3133147b50"
      },
      "source": [
        "base = float(input(\"Enter the base number: \"))\n",
        "exponent = int(input(\"Enter the exponent: \"))\n",
        "\n",
        "result = 1\n",
        "if exponent >= 0:\n",
        "    for _ in range(exponent):\n",
        "        result *= base\n",
        "else:\n",
        "    for _ in range(-exponent):\n",
        "        result /= base\n",
        "\n",
        "print(base, \"raised to the power of\", exponent, \"is:\", result)"
      ],
      "execution_count": 15,
      "outputs": [
        {
          "output_type": "stream",
          "name": "stdout",
          "text": [
            "Enter the base number: 2\n",
            "Enter the exponent: 4\n",
            "2.0 raised to the power of 4 is: 16.0\n"
          ]
        }
      ]
    }
  ]
}