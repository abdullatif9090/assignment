{
  "nbformat": 4,
  "nbformat_minor": 0,
  "metadata": {
    "colab": {
      "provenance": []
    },
    "kernelspec": {
      "name": "python3",
      "display_name": "Python 3"
    },
    "language_info": {
      "name": "python"
    }
  },
  "cells": [
    {
      "cell_type": "code",
      "execution_count": null,
      "metadata": {
        "id": "C68mMJ4I9ikm"
      },
      "outputs": [],
      "source": []
    },
    {
      "cell_type": "markdown",
      "metadata": {
        "id": "615cf9ce"
      },
      "source": [
        "**Question 1:** Write a program that accepts a string from user. Your program should count and display number of vowels in that string."
      ]
    },
    {
      "cell_type": "code",
      "metadata": {
        "colab": {
          "base_uri": "https://localhost:8080/"
        },
        "id": "7847a7f5",
        "outputId": "9a557834-ea07-4c31-f243-137fab9b1435"
      },
      "source": [
        "s = input(\"Enter a string: \")\n",
        "vowel_count = 0\n",
        "for char in s:\n",
        "    if char.lower() in \"aeiou\":\n",
        "        vowel_count += 1\n",
        "print(\"Number of vowels:\", vowel_count)"
      ],
      "execution_count": 1,
      "outputs": [
        {
          "output_type": "stream",
          "name": "stdout",
          "text": [
            "Enter a string: abcdefg\n",
            "Number of vowels: 2\n"
          ]
        }
      ]
    },
    {
      "cell_type": "markdown",
      "metadata": {
        "id": "0556c320"
      },
      "source": [
        "**Question 2:** Write a program that reads a string from keyboard and display:\n",
        "* The number of uppercase letters in the string\n",
        "* The number of lowercase letters in the string\n",
        "* The number of digits in the string\n",
        "* The number of whitespace characters in the string"
      ]
    },
    {
      "cell_type": "code",
      "metadata": {
        "colab": {
          "base_uri": "https://localhost:8080/"
        },
        "id": "abce08d5",
        "outputId": "9a0ccd27-071e-4e2a-ff8c-f2d550a34e17"
      },
      "source": [
        "s = input(\"Enter a string: \")\n",
        "uppercase_count = 0\n",
        "lowercase_count = 0\n",
        "digit_count = 0\n",
        "whitespace_count = 0\n",
        "for char in s:\n",
        "    if char.isupper():\n",
        "        uppercase_count += 1\n",
        "    elif char.islower():\n",
        "        lowercase_count += 1\n",
        "    elif char.isdigit():\n",
        "        digit_count += 1\n",
        "    elif char.isspace():\n",
        "        whitespace_count += 1\n",
        "print(\"Uppercase letters:\", uppercase_count)\n",
        "print(\"Lowercase letters:\", lowercase_count)\n",
        "print(\"Digits:\", digit_count)\n",
        "print(\"Whitespace characters:\", whitespace_count)"
      ],
      "execution_count": 2,
      "outputs": [
        {
          "output_type": "stream",
          "name": "stdout",
          "text": [
            "Enter a string: Ad12asdc\n",
            "Uppercase letters: 1\n",
            "Lowercase letters: 5\n",
            "Digits: 2\n",
            "Whitespace characters: 0\n"
          ]
        }
      ]
    },
    {
      "cell_type": "markdown",
      "metadata": {
        "id": "852d0955"
      },
      "source": [
        "**Question 3:** Write a Python program that accepts a string from user. Your program should create and display a new string where the first and last characters have been exchanged. For example if the user enters the string 'HELLO' then new string would be 'OELLH'"
      ]
    },
    {
      "cell_type": "code",
      "metadata": {
        "colab": {
          "base_uri": "https://localhost:8080/"
        },
        "id": "10f093a6",
        "outputId": "6597705d-2a3d-49cd-be80-39b673a23da5"
      },
      "source": [
        "s = input(\"Enter a string: \")\n",
        "if len(s) > 1:\n",
        "    new_string = s[-1] + s[1:-1] + s[0]\n",
        "    print(\"New string:\", new_string)\n",
        "else:\n",
        "    print(\"New string:\", s)"
      ],
      "execution_count": 3,
      "outputs": [
        {
          "output_type": "stream",
          "name": "stdout",
          "text": [
            "Enter a string: asdsad\n",
            "New string: dsdsaa\n"
          ]
        }
      ]
    },
    {
      "cell_type": "markdown",
      "metadata": {
        "id": "0a288254"
      },
      "source": [
        "**Question 4:** Write a Python program that accepts a string from user. Your program should create a new string in reverse of first string and display it. For example if the user enters the string 'EXAM' then new string would be 'MAXE'"
      ]
    },
    {
      "cell_type": "code",
      "metadata": {
        "colab": {
          "base_uri": "https://localhost:8080/"
        },
        "id": "f183db8f",
        "outputId": "b4655f50-4a42-4795-ae52-bdee2d7b7a1a"
      },
      "source": [
        "s = input(\"Enter a string: \")\n",
        "new_string = s[::-1]\n",
        "print(\"New string:\", new_string)"
      ],
      "execution_count": 4,
      "outputs": [
        {
          "output_type": "stream",
          "name": "stdout",
          "text": [
            "Enter a string: car\n",
            "New string: rac\n"
          ]
        }
      ]
    },
    {
      "cell_type": "markdown",
      "metadata": {
        "id": "5bd204a2"
      },
      "source": [
        "**Question 5:** Write a Python program that accepts a string from user. Your program should create a new string by shifting one position to left. For example if the user enters the string 'examination 2021' then new string would be 'xamination 2021e'"
      ]
    },
    {
      "cell_type": "code",
      "metadata": {
        "colab": {
          "base_uri": "https://localhost:8080/"
        },
        "id": "eb2b3298",
        "outputId": "53bb6acf-d5a5-4af6-a1e5-3417dd279411"
      },
      "source": [
        "s = input(\"Enter a string: \")\n",
        "if len(s) > 0:\n",
        "    new_string = s[1:] + s[0]\n",
        "    print(\"New string:\", new_string)\n",
        "else:\n",
        "    print(\"New string:\", s)"
      ],
      "execution_count": 5,
      "outputs": [
        {
          "output_type": "stream",
          "name": "stdout",
          "text": [
            "Enter a string: examination 2021\n",
            "New string: xamination 2021e\n"
          ]
        }
      ]
    },
    {
      "cell_type": "markdown",
      "metadata": {
        "id": "c25017bc"
      },
      "source": [
        "**Question 6:** Write a program that asks the user to input his name and print its initials. Assuming that the user always types first name, middle name and last name and does not include any unnecessary spaces. For example, if the user enters Ajay Kumar Garg the program should display A. K. G. Note:Don't use split() method"
      ]
    },
    {
      "cell_type": "code",
      "metadata": {
        "colab": {
          "base_uri": "https://localhost:8080/"
        },
        "id": "faaede4f",
        "outputId": "256ed15f-514b-4ec7-c6c1-8f7fe4ba4b9b"
      },
      "source": [
        "name = input(\"Enter your full name: \")\n",
        "initials = \"\"\n",
        "initials += name[0] + \". \"\n",
        "for i in range(1, len(name)):\n",
        "    if name[i-1] == ' ':\n",
        "        initials += name[i] + \". \"\n",
        "print(initials.strip())"
      ],
      "execution_count": 6,
      "outputs": [
        {
          "output_type": "stream",
          "name": "stdout",
          "text": [
            "Enter your full name: Ajay Kumar Garg\n",
            "A. K. G.\n"
          ]
        }
      ]
    },
    {
      "cell_type": "markdown",
      "metadata": {
        "id": "c047c251"
      },
      "source": [
        "**Question 7:** A palindrome is a string that reads the same backward as forward. For example, the words dad, madam and radar are all palindromes. Write a programs that determines whether the string is a palindrome. Note: do not use reverse() method"
      ]
    },
    {
      "cell_type": "code",
      "metadata": {
        "colab": {
          "base_uri": "https://localhost:8080/"
        },
        "id": "72528df1",
        "outputId": "d62006da-1987-484d-9d23-71bc4f65e84d"
      },
      "source": [
        "s = input(\"Enter a string: \")\n",
        "is_palindrome = True\n",
        "for i in range(len(s) // 2):\n",
        "    if s[i] != s[len(s) - 1 - i]:\n",
        "        is_palindrome = False\n",
        "        break\n",
        "if is_palindrome:\n",
        "    print(\"The string is a palindrome.\")\n",
        "else:\n",
        "    print(\"The string is not a palindrome.\")"
      ],
      "execution_count": 7,
      "outputs": [
        {
          "output_type": "stream",
          "name": "stdout",
          "text": [
            "Enter a string: civic\n",
            "The string is a palindrome.\n"
          ]
        }
      ]
    },
    {
      "cell_type": "markdown",
      "metadata": {
        "id": "d293c625"
      },
      "source": [
        "**Question 8:** Write a program that display following output:\n",
        "SHIFT\n",
        "HIFTS\n",
        "IFTSH\n",
        "FTSHI\n",
        "TSHIF\n",
        "SHIFT"
      ]
    },
    {
      "cell_type": "code",
      "metadata": {
        "colab": {
          "base_uri": "https://localhost:8080/"
        },
        "id": "b3893dd8",
        "outputId": "a37c3efb-fcdd-4a8a-eccc-6f439cda27af"
      },
      "source": [
        "s = \"SHIFT\"\n",
        "print(s)\n",
        "for i in range(len(s) - 1):\n",
        "    s = s[1:] + s[0]\n",
        "    print(s)\n",
        "print(s)"
      ],
      "execution_count": 8,
      "outputs": [
        {
          "output_type": "stream",
          "name": "stdout",
          "text": [
            "SHIFT\n",
            "HIFTS\n",
            "IFTSH\n",
            "FTSHI\n",
            "TSHIF\n",
            "TSHIF\n"
          ]
        }
      ]
    },
    {
      "cell_type": "markdown",
      "metadata": {
        "id": "dce8fbb1"
      },
      "source": [
        "**Question 9:** Write a program in python that accepts a string to setup a passwords. Your entered password must meet the following requirements:\n",
        "The password must be at least eight characters long.\n",
        "It must contain at least one uppercase letter."
      ]
    },
    {
      "cell_type": "code",
      "metadata": {
        "colab": {
          "base_uri": "https://localhost:8080/"
        },
        "id": "401709ed",
        "outputId": "c428626b-ee58-4fdc-efb4-b7ed68571e13"
      },
      "source": [
        "password = input(\"Enter a password: \")\n",
        "is_valid = True\n",
        "if len(password) < 8:\n",
        "    print(\"Password must be at least eight characters long.\")\n",
        "    is_valid = False\n",
        "has_uppercase = False\n",
        "for char in password:\n",
        "    if char.isupper():\n",
        "        has_uppercase = True\n",
        "        break\n",
        "if not has_uppercase:\n",
        "    print(\"Password must contain at least one uppercase letter.\")\n",
        "    is_valid = False\n",
        "\n",
        "if is_valid:\n",
        "    print(\"Password is valid.\")"
      ],
      "execution_count": 9,
      "outputs": [
        {
          "output_type": "stream",
          "name": "stdout",
          "text": [
            "Enter a password: 1234AAAA@a\n",
            "Password is valid.\n"
          ]
        }
      ]
    }
  ]
}