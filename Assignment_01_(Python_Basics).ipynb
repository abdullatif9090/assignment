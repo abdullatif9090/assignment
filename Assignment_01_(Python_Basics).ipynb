{
  "cells": [
    {
      "cell_type": "markdown",
      "metadata": {
        "id": "nl2V1_Uz4xUL"
      },
      "source": [
        "# Part -1 Python Basics (Variables)"
      ]
    },
    {
      "cell_type": "markdown",
      "metadata": {
        "id": "blo3WQhm4xUN"
      },
      "source": [
        "1. Print Your Name with your Father name and Date of birth using suitable escape sequence charactor"
      ]
    },
    {
      "cell_type": "code",
      "execution_count": 1,
      "metadata": {
        "colab": {
          "base_uri": "https://localhost:8080/"
        },
        "id": "GcZOQI5k4xUN",
        "outputId": "e5775c52-b171-4d7e-b6a5-8754af5a8f46"
      },
      "outputs": [
        {
          "output_type": "stream",
          "name": "stdout",
          "text": [
            "My Name: [Your Name]\n",
            "Father's Name: [Your Father's Name]\n",
            "Date of Birth: [Your Date of Birth]\n"
          ]
        }
      ],
      "source": [
        "# Write your code here\n",
        "print(\"My Name: [Your Name]\\nFather's Name: [Your Father's Name]\\nDate of Birth: [Your Date of Birth]\")"
      ]
    },
    {
      "cell_type": "markdown",
      "metadata": {
        "id": "EjTZR5L14xUO"
      },
      "source": [
        "2. Write your small bio using variables and print it using print function"
      ]
    },
    {
      "cell_type": "code",
      "execution_count": 2,
      "metadata": {
        "colab": {
          "base_uri": "https://localhost:8080/"
        },
        "id": "Mrr5_dqI4xUP",
        "outputId": "de2cdfd7-2241-4bbf-b2be-ffe7eb18772d"
      },
      "outputs": [
        {
          "output_type": "stream",
          "name": "stdout",
          "text": [
            "Hello, my name is [Your Name]. I am [Your Age] years old and I work as a [Your Occupation].\n"
          ]
        }
      ],
      "source": [
        "# Write your code here\n",
        "name = \"[Your Name]\"\n",
        "age = \"[Your Age]\"\n",
        "occupation = \"[Your Occupation]\"\n",
        "bio = f\"Hello, my name is {name}. I am {age} years old and I work as a {occupation}.\"\n",
        "print(bio)"
      ]
    },
    {
      "cell_type": "markdown",
      "metadata": {
        "id": "HN7dJXiB4xUP"
      },
      "source": [
        "3. Write a program in which use all the operators we can use in Python"
      ]
    },
    {
      "cell_type": "code",
      "execution_count": 3,
      "metadata": {
        "colab": {
          "base_uri": "https://localhost:8080/"
        },
        "id": "UBeGrmfi4xUP",
        "outputId": "053ed5c6-1f37-4147-9fa1-679ec5ae8a96"
      },
      "outputs": [
        {
          "output_type": "stream",
          "name": "stdout",
          "text": [
            "Addition: 15\n",
            "Subtraction: 5\n",
            "Multiplication: 50\n",
            "Division: 2.0\n",
            "Floor Division: 2\n",
            "Modulus: 0\n",
            "Exponentiation: 100000\n",
            "Equal to: False\n",
            "Not equal to: True\n",
            "Greater than: True\n",
            "Less than: False\n",
            "Greater than or equal to: True\n",
            "Less than or equal to: False\n",
            "Logical AND: False\n",
            "Logical OR: True\n",
            "Logical NOT: False\n",
            "Assignment +=: 15\n",
            "Assignment -=: 10\n",
            "Assignment *=: 20\n",
            "Assignment /=: 10.0\n",
            "Is identity: True\n",
            "Is not identity: True\n",
            "Membership in: True\n",
            "Membership not in: True\n"
          ]
        }
      ],
      "source": [
        "# Write your code here\n",
        "a = 10\n",
        "b = 5\n",
        "\n",
        "# Arithmetic Operators\n",
        "print(f\"Addition: {a + b}\")\n",
        "print(f\"Subtraction: {a - b}\")\n",
        "print(f\"Multiplication: {a * b}\")\n",
        "print(f\"Division: {a / b}\")\n",
        "print(f\"Floor Division: {a // b}\")\n",
        "print(f\"Modulus: {a % b}\")\n",
        "print(f\"Exponentiation: {a ** b}\")\n",
        "\n",
        "# Comparison Operators\n",
        "print(f\"Equal to: {a == b}\")\n",
        "print(f\"Not equal to: {a != b}\")\n",
        "print(f\"Greater than: {a > b}\")\n",
        "print(f\"Less than: {a < b}\")\n",
        "print(f\"Greater than or equal to: {a >= b}\")\n",
        "print(f\"Less than or equal to: {a <= b}\")\n",
        "\n",
        "# Logical Operators\n",
        "x = True\n",
        "y = False\n",
        "print(f\"Logical AND: {x and y}\")\n",
        "print(f\"Logical OR: {x or y}\")\n",
        "print(f\"Logical NOT: {not x}\")\n",
        "\n",
        "# Assignment Operators\n",
        "c = 10\n",
        "c += 5\n",
        "print(f\"Assignment +=: {c}\")\n",
        "c -= 5\n",
        "print(f\"Assignment -=: {c}\")\n",
        "c *= 2\n",
        "print(f\"Assignment *=: {c}\")\n",
        "c /= 2\n",
        "print(f\"Assignment /=: {c}\")\n",
        "\n",
        "# Bitwise Operators (Optional, depending on what was covered)\n",
        "# print(f\"Bitwise AND: {a & b}\")\n",
        "# print(f\"Bitwise OR: {a | b}\")\n",
        "# print(f\"Bitwise XOR: {a ^ b}\")\n",
        "# print(f\"Bitwise NOT: {~a}\")\n",
        "# print(f\"Bitwise Left Shift: {a << 1}\")\n",
        "# print(f\"Bitwise Right Shift: {a >> 1}\")\n",
        "\n",
        "# Identity Operators\n",
        "list1 = [1, 2, 3]\n",
        "list2 = [1, 2, 3]\n",
        "list3 = list1\n",
        "print(f\"Is identity: {list1 is list3}\")\n",
        "print(f\"Is not identity: {list1 is not list2}\")\n",
        "\n",
        "# Membership Operators\n",
        "print(f\"Membership in: {1 in list1}\")\n",
        "print(f\"Membership not in: {4 not in list1}\")"
      ]
    },
    {
      "cell_type": "markdown",
      "metadata": {
        "id": "D5TQ6Xtx4xUP"
      },
      "source": [
        "4. Completes the following steps of small task:\n",
        "    - Mention Marks of English , Islamiat and Maths out of 100 in 3 different variables\n",
        "    - Mention Variable of Total Marks and assign 300 to it\n",
        "    - Calculate Percentage"
      ]
    },
    {
      "cell_type": "code",
      "execution_count": 4,
      "metadata": {
        "colab": {
          "base_uri": "https://localhost:8080/"
        },
        "id": "ouiSt62U4xUQ",
        "outputId": "11971c2b-9416-4261-8e2c-79ec2130c14f"
      },
      "outputs": [
        {
          "output_type": "stream",
          "name": "stdout",
          "text": [
            "English Marks: 85\n",
            "Islamiat Marks: 90\n",
            "Maths Marks: 78\n",
            "Total Marks: 300\n",
            "Percentage: 84.33%\n"
          ]
        }
      ],
      "source": [
        "# Write your code here\n",
        "english_marks = 85\n",
        "islamic_marks = 90\n",
        "maths_marks = 78\n",
        "\n",
        "total_marks = 300\n",
        "\n",
        "percentage = (english_marks + islamic_marks + maths_marks) / total_marks * 100\n",
        "\n",
        "print(f\"English Marks: {english_marks}\")\n",
        "print(f\"Islamiat Marks: {islamic_marks}\")\n",
        "print(f\"Maths Marks: {maths_marks}\")\n",
        "print(f\"Total Marks: {total_marks}\")\n",
        "print(f\"Percentage: {percentage:.2f}%\")"
      ]
    },
    {
      "cell_type": "markdown",
      "metadata": {
        "id": "FvniQCLA4xUQ"
      },
      "source": [
        "# Part -2 Python Basics (Conditional Statements)"
      ]
    },
    {
      "cell_type": "markdown",
      "metadata": {
        "id": "sHz7-Uw94xUQ"
      },
      "source": [
        "1) A company decided to give bonus of 5% to employee if his/her year of service is more than 5 years.\n",
        "Ask user for their salary and year of service and print the net bonus amount."
      ]
    },
    {
      "cell_type": "code",
      "execution_count": 5,
      "metadata": {
        "colab": {
          "base_uri": "https://localhost:8080/"
        },
        "id": "l-Hx4iPB4xUQ",
        "outputId": "1de60071-c04a-448b-e902-e5bdd29cf7e9"
      },
      "outputs": [
        {
          "output_type": "stream",
          "name": "stdout",
          "text": [
            "Enter your salary: 5\n",
            "Enter your years of service: 5\n",
            "You are not eligible for a bonus.\n"
          ]
        }
      ],
      "source": [
        "#Type your code here\n",
        "salary = float(input(\"Enter your salary: \"))\n",
        "years_of_service = int(input(\"Enter your years of service: \"))\n",
        "\n",
        "if years_of_service > 5:\n",
        "  bonus = 0.05 * salary\n",
        "  print(f\"Net bonus amount: {bonus}\")\n",
        "else:\n",
        "  print(\"You are not eligible for a bonus.\")"
      ]
    },
    {
      "cell_type": "markdown",
      "metadata": {
        "id": "B4PZZo2y4xUQ"
      },
      "source": [
        "\n",
        "2) Write a program to check whether a person is eligible for voting or not. (accept age from user) if age is greater than 17 eligible otherwise not eligible"
      ]
    },
    {
      "cell_type": "code",
      "execution_count": 6,
      "metadata": {
        "colab": {
          "base_uri": "https://localhost:8080/"
        },
        "id": "LZAkgYL14xUR",
        "outputId": "fbf1a344-070c-4fe4-bef6-9de2909169ac"
      },
      "outputs": [
        {
          "output_type": "stream",
          "name": "stdout",
          "text": [
            "Enter your age: 18\n",
            "You are eligible for voting.\n"
          ]
        }
      ],
      "source": [
        "#Type your code here\n",
        "age = int(input(\"Enter your age: \"))\n",
        "\n",
        "if age > 17:\n",
        "  print(\"You are eligible for voting.\")\n",
        "else:\n",
        "  print(\"You are not eligible for voting.\")"
      ]
    },
    {
      "cell_type": "markdown",
      "metadata": {
        "id": "i7-6qHQh4xUR"
      },
      "source": [
        "\n",
        "3) Write a program to check whether a number entered by user is even or odd."
      ]
    },
    {
      "cell_type": "code",
      "execution_count": 7,
      "metadata": {
        "colab": {
          "base_uri": "https://localhost:8080/"
        },
        "id": "vkkfBY5x4xUR",
        "outputId": "440fdc7c-55cd-4593-db2f-c358c3d5498f"
      },
      "outputs": [
        {
          "output_type": "stream",
          "name": "stdout",
          "text": [
            "Enter a number: 2\n",
            "2 is an even number.\n"
          ]
        }
      ],
      "source": [
        "#Type your code here\n",
        "num = int(input(\"Enter a number: \"))\n",
        "\n",
        "if num % 2 == 0:\n",
        "  print(f\"{num} is an even number.\")\n",
        "else:\n",
        "  print(f\"{num} is an odd number.\")"
      ]
    },
    {
      "cell_type": "markdown",
      "metadata": {
        "id": "n8GAgPvk4xUR"
      },
      "source": [
        "4) Write a program to check whether a number is divisible by 7 or not.\n",
        "Show Answer"
      ]
    },
    {
      "cell_type": "code",
      "execution_count": 8,
      "metadata": {
        "colab": {
          "base_uri": "https://localhost:8080/"
        },
        "id": "PyokaK604xUR",
        "outputId": "a05d535f-0e33-426e-99f8-c7ff2c1dbb11"
      },
      "outputs": [
        {
          "output_type": "stream",
          "name": "stdout",
          "text": [
            "Enter a number: 49\n",
            "49 is divisible by 7.\n"
          ]
        }
      ],
      "source": [
        "#Type your code here\n",
        "num = int(input(\"Enter a number: \"))\n",
        "\n",
        "if num % 7 == 0:\n",
        "  print(f\"{num} is divisible by 7.\")\n",
        "else:\n",
        "  print(f\"{num} is not divisible by 7.\")"
      ]
    },
    {
      "cell_type": "markdown",
      "metadata": {
        "id": "Mg0yX8n_4xUR"
      },
      "source": [
        "5) Write a program to display\n",
        "\"Hello\" if a number entered by user is a multiple of five , otherwise print \"Bye\"."
      ]
    },
    {
      "cell_type": "code",
      "execution_count": 9,
      "metadata": {
        "colab": {
          "base_uri": "https://localhost:8080/"
        },
        "id": "NFCzPwt94xUR",
        "outputId": "98d71d19-0d15-46a5-a969-9acc89d7ec61"
      },
      "outputs": [
        {
          "output_type": "stream",
          "name": "stdout",
          "text": [
            "Enter a number: 5\n",
            "Hello\n"
          ]
        }
      ],
      "source": [
        "#Type your code here\n",
        "num = int(input(\"Enter a number: \"))\n",
        "\n",
        "if num % 5 == 0:\n",
        "  print(\"Hello\")\n",
        "else:\n",
        "  print(\"Bye\")"
      ]
    },
    {
      "cell_type": "markdown",
      "metadata": {
        "id": "PXZhto6p4xUS"
      },
      "source": [
        "7) Write a program to display the last digit of a number.\n"
      ]
    },
    {
      "cell_type": "code",
      "execution_count": 10,
      "metadata": {
        "colab": {
          "base_uri": "https://localhost:8080/"
        },
        "id": "Ebd1pmV54xUS",
        "outputId": "1b4ff3cb-a933-4e30-adcf-e757c11cfb82"
      },
      "outputs": [
        {
          "output_type": "stream",
          "name": "stdout",
          "text": [
            "Enter a number: 10\n",
            "The last digit of 10 is 0\n"
          ]
        }
      ],
      "source": [
        "#Type your code here\n",
        "num = int(input(\"Enter a number: \"))\n",
        "last_digit = num % 10\n",
        "print(f\"The last digit of {num} is {last_digit}\")"
      ]
    },
    {
      "cell_type": "markdown",
      "metadata": {
        "id": "6UdeEIGJ4xUS"
      },
      "source": [
        "9) Take values of length and breadth of a rectangle from user and print if it is square or rectangle."
      ]
    },
    {
      "cell_type": "code",
      "execution_count": 11,
      "metadata": {
        "colab": {
          "base_uri": "https://localhost:8080/"
        },
        "id": "ynO97tQX4xUS",
        "outputId": "b2b89cfc-77be-46cf-d7b4-8265b2fa29d3"
      },
      "outputs": [
        {
          "output_type": "stream",
          "name": "stdout",
          "text": [
            "Enter the length: 1\n",
            "Enter the breadth: 2\n",
            "It is a rectangle.\n"
          ]
        }
      ],
      "source": [
        "#Type your code here\n",
        "length = float(input(\"Enter the length: \"))\n",
        "breadth = float(input(\"Enter the breadth: \"))\n",
        "\n",
        "if length == breadth:\n",
        "  print(\"It is a square.\")\n",
        "else:\n",
        "  print(\"It is a rectangle.\")"
      ]
    },
    {
      "cell_type": "markdown",
      "metadata": {
        "id": "TxtraaNi4xUS"
      },
      "source": [
        "10) Take two int values from user and print greatest among them."
      ]
    },
    {
      "cell_type": "code",
      "execution_count": null,
      "metadata": {
        "id": "Za_vy6FO4xUS"
      },
      "outputs": [],
      "source": [
        "# Type your code here\n",
        "num1 = int(input(\"Enter the first number: \"))\n",
        "num2 = int(input(\"Enter the second number: \"))\n",
        "\n",
        "if num1 > num2:\n",
        "  print(f\"The greatest number is: {num1}\")\n",
        "elif num2 > num1:\n",
        "  print(f\"The greatest number is: {num2}\")\n",
        "else:\n",
        "  print(\"Both numbers are equal.\")"
      ]
    },
    {
      "cell_type": "markdown",
      "metadata": {
        "id": "Iyr6rWBB4xUS"
      },
      "source": [
        "11) A shop will give discount of 10% if the cost of purchased quantity is more than 1000.\n",
        "Ask user for quantity\n",
        "Suppose, one unit will cost 100.\n",
        "Judge and print total cost for user."
      ]
    },
    {
      "cell_type": "code",
      "execution_count": 12,
      "metadata": {
        "colab": {
          "base_uri": "https://localhost:8080/"
        },
        "id": "RftWKpPr4xUT",
        "outputId": "77dc67af-e2af-440d-e0fa-867a9e04c0fa"
      },
      "outputs": [
        {
          "output_type": "stream",
          "name": "stdout",
          "text": [
            "Enter the quantity purchased: 10\n",
            "The total cost is: 1000\n"
          ]
        }
      ],
      "source": [
        "#Type your code here\n",
        "quantity = int(input(\"Enter the quantity purchased: \"))\n",
        "cost_per_unit = 100\n",
        "total_cost = quantity * cost_per_unit\n",
        "\n",
        "if total_cost > 1000:\n",
        "  discount = 0.10 * total_cost\n",
        "  total_cost -= discount\n",
        "\n",
        "print(f\"The total cost is: {total_cost}\")"
      ]
    },
    {
      "cell_type": "markdown",
      "metadata": {
        "id": "H2dVU3bq4xUT"
      },
      "source": [
        "12) A school has following rules for grading system:\n",
        "\n",
        "a. Below 25 - F\n",
        "\n",
        "b. 25 to 45 - E\n",
        "\n",
        "c. 45 to 50 - D\n",
        "\n",
        "d. 50 to 60 - C\n",
        "\n",
        "e. 60 to 80 - B\n",
        "\n",
        "f. Above 80 - A\n",
        "\n",
        "Ask user to enter marks and print the corresponding grade."
      ]
    },
    {
      "cell_type": "code",
      "execution_count": 13,
      "metadata": {
        "colab": {
          "base_uri": "https://localhost:8080/"
        },
        "id": "DU8vfXFA4xUT",
        "outputId": "873ea1e1-efd8-41ec-bdff-45bb58f34dbb"
      },
      "outputs": [
        {
          "output_type": "stream",
          "name": "stdout",
          "text": [
            "Enter the marks: 80\n",
            "The corresponding grade is: A\n"
          ]
        }
      ],
      "source": [
        "#Type your code here\n",
        "marks = float(input(\"Enter the marks: \"))\n",
        "\n",
        "if marks >= 80:\n",
        "  grade = 'A'\n",
        "elif marks >= 60:\n",
        "  grade = 'B'\n",
        "elif marks >= 50:\n",
        "  grade = 'C'\n",
        "elif marks >= 45:\n",
        "  grade = 'D'\n",
        "elif marks >= 25:\n",
        "  grade = 'E'\n",
        "else:\n",
        "  grade = 'F'\n",
        "\n",
        "print(f\"The corresponding grade is: {grade}\")"
      ]
    },
    {
      "cell_type": "markdown",
      "metadata": {
        "id": "SD1uqG6l4xUT"
      },
      "source": [
        "14)A student will not be allowed to sit in exam if his/her attendence is less than 75%.\n",
        "\n",
        "Take following input from user\n",
        "\n",
        "- Number of classes held\n",
        "\n",
        "- Number of classes attended.\n",
        "\n",
        "And print\n",
        "\n",
        "- percentage of class attended\n",
        "\n",
        "- Is student is allowed to sit in exam or not.\n"
      ]
    },
    {
      "cell_type": "code",
      "execution_count": 14,
      "metadata": {
        "colab": {
          "base_uri": "https://localhost:8080/"
        },
        "id": "whFCr3p74xUT",
        "outputId": "a2b03684-d998-48e5-ab5f-e6e4ce0bfa33"
      },
      "outputs": [
        {
          "output_type": "stream",
          "name": "stdout",
          "text": [
            "Enter the number of classes held: 10\n",
            "Enter the number of classes attended: 20\n",
            "Percentage of classes attended: 200.00%\n",
            "You are allowed to sit in the exam.\n"
          ]
        }
      ],
      "source": [
        "#Type your code here\n",
        "classes_held = int(input(\"Enter the number of classes held: \"))\n",
        "classes_attended = int(input(\"Enter the number of classes attended: \"))\n",
        "\n",
        "attendance_percentage = (classes_attended / classes_held) * 100\n",
        "\n",
        "print(f\"Percentage of classes attended: {attendance_percentage:.2f}%\")\n",
        "\n",
        "if attendance_percentage >= 75:\n",
        "  print(\"You are allowed to sit in the exam.\")\n",
        "else:\n",
        "  print(\"You are not allowed to sit in the exam.\")"
      ]
    },
    {
      "cell_type": "markdown",
      "metadata": {
        "id": "skLYWLub4xUT"
      },
      "source": [
        "15) Modify the above question to allow student to sit if he/she has medical cause. Ask user if he/she has medical cause or not ( 'Y' or 'N' ) and print accordingly."
      ]
    },
    {
      "cell_type": "code",
      "execution_count": 15,
      "metadata": {
        "colab": {
          "base_uri": "https://localhost:8080/"
        },
        "id": "OENGgHC04xUT",
        "outputId": "5f8ec969-2acf-467d-8648-82436d80b770"
      },
      "outputs": [
        {
          "output_type": "stream",
          "name": "stdout",
          "text": [
            "Enter the number of classes held: 10\n",
            "Enter the number of classes attended: 10\n",
            "Do you have a medical cause? (Y/N): y\n",
            "Percentage of classes attended: 100.00%\n",
            "You are allowed to sit in the exam.\n"
          ]
        }
      ],
      "source": [
        "#Type your code here\n",
        "classes_held = int(input(\"Enter the number of classes held: \"))\n",
        "classes_attended = int(input(\"Enter the number of classes attended: \"))\n",
        "medical_cause = input(\"Do you have a medical cause? (Y/N): \")\n",
        "\n",
        "attendance_percentage = (classes_attended / classes_held) * 100\n",
        "\n",
        "print(f\"Percentage of classes attended: {attendance_percentage:.2f}%\")\n",
        "\n",
        "if attendance_percentage >= 75 or medical_cause.upper() == 'Y':\n",
        "  print(\"You are allowed to sit in the exam.\")\n",
        "else:\n",
        "  print(\"You are not allowed to sit in the exam.\")"
      ]
    },
    {
      "cell_type": "markdown",
      "metadata": {
        "id": "HIZapCUT4xUU"
      },
      "source": [
        "16) Write a program to check if a year is leap year or not.\n",
        "\n",
        "If a year is divisible by 4 then it is leap year but if the year is century year like 2000, 1900, 2100 then it must be divisible by 400."
      ]
    },
    {
      "cell_type": "code",
      "execution_count": 16,
      "metadata": {
        "colab": {
          "base_uri": "https://localhost:8080/"
        },
        "id": "LF6hoGNq4xUU",
        "outputId": "31598567-d165-46a0-dba9-ddcb95cd1efc"
      },
      "outputs": [
        {
          "output_type": "stream",
          "name": "stdout",
          "text": [
            "Enter a year: 10\n",
            "10 is not a leap year.\n"
          ]
        }
      ],
      "source": [
        "#Type your code here\n",
        "year = int(input(\"Enter a year: \"))\n",
        "\n",
        "if (year % 4 == 0 and year % 100 != 0) or (year % 400 == 0):\n",
        "  print(f\"{year} is a leap year.\")\n",
        "else:\n",
        "  print(f\"{year} is not a leap year.\")"
      ]
    },
    {
      "cell_type": "markdown",
      "metadata": {
        "id": "nuOZ0kex4xUU"
      },
      "source": [
        "17) Ask user to enter age, gender ( M or F ), marital status ( Y or N ) and then using following rules print their place of service.\n",
        "\n",
        "if employee is female, then she will work only in urban areas.\n",
        "\n",
        "if employee is a male and age is in between 20 to 40 then he may work in anywhere\n",
        "\n",
        "if employee is male and age is in between 40 t0 60 then he will work in urban areas only.\n",
        "\n",
        "And any other input of age should print \"ERROR\""
      ]
    },
    {
      "cell_type": "code",
      "execution_count": 17,
      "metadata": {
        "colab": {
          "base_uri": "https://localhost:8080/"
        },
        "id": "mz8ppW6M4xUU",
        "outputId": "1a2187de-b80e-4703-85b4-a096099a9b74"
      },
      "outputs": [
        {
          "output_type": "stream",
          "name": "stdout",
          "text": [
            "Enter your age: 10\n",
            "Enter your gender (M/F): M\n",
            "Enter your marital status (Y/N): N\n",
            "ERROR\n"
          ]
        }
      ],
      "source": [
        "#Type your code here\n",
        "age = int(input(\"Enter your age: \"))\n",
        "gender = input(\"Enter your gender (M/F): \").upper()\n",
        "marital_status = input(\"Enter your marital status (Y/N): \").upper()\n",
        "\n",
        "if gender == 'F':\n",
        "  print(\"Place of service: Urban areas\")\n",
        "elif gender == 'M':\n",
        "  if 20 <= age <= 40:\n",
        "    print(\"Place of service: Anywhere\")\n",
        "  elif 40 < age <= 60:\n",
        "    print(\"Place of service: Urban areas only\")\n",
        "  else:\n",
        "    print(\"ERROR\")\n",
        "else:\n",
        "  print(\"ERROR\")"
      ]
    },
    {
      "cell_type": "markdown",
      "metadata": {
        "id": "dJ05XZ_l4xUU"
      },
      "source": [
        "6) Write a program to calculate the electricity bill (accept number of unit from user) according to the following criteria :\n",
        "     Unit                                                     Price  \n",
        "uptp 100 units                                             no charge\n",
        "Next 200 units                                              Rs 5 per unit\n",
        "After 200 units                                             Rs 10 per unit\n",
        "(For example if input unit is 350 than total bill amount is Rs.3500\n",
        "(For example if input unit is 97 than total bill amount is Rs.0\n",
        "(For example if input unit is 150 than total bill amount is Rs.750"
      ]
    },
    {
      "cell_type": "markdown",
      "metadata": {
        "id": "hTKnTXHa4xUg"
      },
      "source": [
        "13) Take input of age of 3 people by user and determine oldest and youngest among them."
      ]
    },
    {
      "cell_type": "code",
      "execution_count": 19,
      "metadata": {
        "colab": {
          "base_uri": "https://localhost:8080/"
        },
        "id": "bUvLn3MN4xUg",
        "outputId": "293c597c-d1ed-48a3-8e7e-161997a9d3c8"
      },
      "outputs": [
        {
          "output_type": "stream",
          "name": "stdout",
          "text": [
            "Enter the age of person 1: 10\n",
            "Enter the age of person 2: 20\n",
            "Enter the age of person 3: 30\n",
            "The oldest person is 30 years old.\n",
            "The youngest person is 10 years old.\n"
          ]
        }
      ],
      "source": [
        "#Type your code here\n",
        "age1 = int(input(\"Enter the age of person 1: \"))\n",
        "age2 = int(input(\"Enter the age of person 2: \"))\n",
        "age3 = int(input(\"Enter the age of person 3: \"))\n",
        "\n",
        "oldest = max(age1, age2, age3)\n",
        "youngest = min(age1, age2, age3)\n",
        "\n",
        "print(f\"The oldest person is {oldest} years old.\")\n",
        "print(f\"The youngest person is {youngest} years old.\")"
      ]
    },
    {
      "cell_type": "code",
      "metadata": {
        "colab": {
          "base_uri": "https://localhost:8080/"
        },
        "id": "e2b1a6cf",
        "outputId": "9ae1da62-8593-44c6-e8a8-b997202bb6b5"
      },
      "source": [
        "#Type your code here\n",
        "units = int(input(\"Enter the number of units consumed: \"))\n",
        "bill_amount = 0\n",
        "\n",
        "if units <= 100:\n",
        "  bill_amount = 0\n",
        "elif units <= 300:  # 100 free units + 200 units @ Rs 5\n",
        "  bill_amount = (units - 100) * 5\n",
        "else:  # After 300 units @ Rs 10\n",
        "  bill_amount = (200 * 5) + (units - 300) * 10 # 200 units @ Rs 5 and remaining @ Rs 10\n",
        "\n",
        "\n",
        "print(f\"The total electricity bill is: Rs.{bill_amount}\")"
      ],
      "execution_count": 18,
      "outputs": [
        {
          "output_type": "stream",
          "name": "stdout",
          "text": [
            "Enter the number of units consumed: 199\n",
            "The total electricity bill is: Rs.495\n"
          ]
        }
      ]
    }
  ],
  "metadata": {
    "kernelspec": {
      "display_name": "Python 3 (ipykernel)",
      "language": "python",
      "name": "python3"
    },
    "language_info": {
      "codemirror_mode": {
        "name": "ipython",
        "version": 3
      },
      "file_extension": ".py",
      "mimetype": "text/x-python",
      "name": "python",
      "nbconvert_exporter": "python",
      "pygments_lexer": "ipython3",
      "version": "3.11.5"
    },
    "colab": {
      "provenance": []
    }
  },
  "nbformat": 4,
  "nbformat_minor": 0
}