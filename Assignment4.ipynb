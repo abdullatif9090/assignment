{
  "nbformat": 4,
  "nbformat_minor": 0,
  "metadata": {
    "colab": {
      "provenance": []
    },
    "kernelspec": {
      "name": "python3",
      "display_name": "Python 3"
    },
    "language_info": {
      "name": "python"
    }
  },
  "cells": [
    {
      "cell_type": "markdown",
      "metadata": {
        "id": "b8e39655"
      },
      "source": [
        "1. Write a program that accepts a list from user and print the alternate element of list.\n"
      ]
    },
    {
      "cell_type": "code",
      "metadata": {
        "colab": {
          "base_uri": "https://localhost:8080/"
        },
        "id": "4a44df8b",
        "outputId": "650d549a-16db-4d69-9c64-90b19bf8e978"
      },
      "source": [
        "input_list_str = input(\"Enter a list of elements separated by spaces: \")\n",
        "input_list = input_list_str.split()\n",
        "\n",
        "print(\"Alternate elements of the list:\")\n",
        "for i in range(0, len(input_list), 2):\n",
        "    print(input_list[i])"
      ],
      "execution_count": 1,
      "outputs": [
        {
          "output_type": "stream",
          "name": "stdout",
          "text": [
            "Enter a list of elements separated by spaces: 1\n",
            "Alternate elements of the list:\n",
            "1\n"
          ]
        }
      ]
    },
    {
      "cell_type": "markdown",
      "metadata": {
        "id": "478d311c"
      },
      "source": [
        "2. Write a program that accepts a list from user. Your program should reverse the content of list and\n",
        "display it. Do not use reverse() method.  "
      ]
    },
    {
      "cell_type": "code",
      "metadata": {
        "colab": {
          "base_uri": "https://localhost:8080/"
        },
        "id": "efa1fe2b",
        "outputId": "aada572f-f0ae-47d7-c293-f25a8fd05b94"
      },
      "source": [
        "input_list_str = input(\"Enter a list of elements separated by spaces: \")\n",
        "input_list = input_list_str.split()\n",
        "\n",
        "reversed_list = input_list[::-1]\n",
        "\n",
        "print(\"Reversed list:\")\n",
        "print(reversed_list)"
      ],
      "execution_count": 2,
      "outputs": [
        {
          "output_type": "stream",
          "name": "stdout",
          "text": [
            "Enter a list of elements separated by spaces: 1 2 3 4\n",
            "Reversed list:\n",
            "['4', '3', '2', '1']\n"
          ]
        }
      ]
    },
    {
      "cell_type": "markdown",
      "metadata": {
        "id": "02e3e8df"
      },
      "source": [
        "3. Find and display the largest number of a list without using built-in function max(). Your program\n",
        "should ask the user to input values in list from keyboard.  "
      ]
    },
    {
      "cell_type": "code",
      "metadata": {
        "colab": {
          "base_uri": "https://localhost:8080/"
        },
        "id": "a7d72464",
        "outputId": "9adb7ab9-9060-48a6-a28e-30ff05f74040"
      },
      "source": [
        "input_list_str = input(\"Enter a list of numbers separated by spaces: \")\n",
        "input_list = input_list_str.split()\n",
        "\n",
        "# Convert the input strings to numbers (integers or floats)\n",
        "numbers = []\n",
        "for item in input_list:\n",
        "    try:\n",
        "        numbers.append(float(item)) # Try converting to float first\n",
        "    except ValueError:\n",
        "        try:\n",
        "            numbers.append(int(item)) # If float conversion fails, try integer\n",
        "        except ValueError:\n",
        "            print(f\"Warning: '{item}' is not a valid number and will be skipped.\")\n",
        "            continue\n",
        "\n",
        "if not numbers:\n",
        "    print(\"No valid numbers entered.\")\n",
        "else:\n",
        "    largest_number = numbers[0]\n",
        "    for number in numbers:\n",
        "        if number > largest_number:\n",
        "            largest_number = number\n",
        "    print(\"The largest number in the list is:\", largest_number)"
      ],
      "execution_count": 3,
      "outputs": [
        {
          "output_type": "stream",
          "name": "stdout",
          "text": [
            "Enter a list of numbers separated by spaces: 1 2 5 6 0 9\n",
            "The largest number in the list is: 9.0\n"
          ]
        }
      ]
    },
    {
      "cell_type": "markdown",
      "metadata": {
        "id": "ea3ceb95"
      },
      "source": [
        "4. Write a program that rotates the element of a list so that the element at the first index moves to the\n",
        "second index, the element in the second index moves to the third index, etc., and the element in the last\n",
        "index moves to the first index.   "
      ]
    },
    {
      "cell_type": "code",
      "metadata": {
        "colab": {
          "base_uri": "https://localhost:8080/"
        },
        "id": "9a041c34",
        "outputId": "e545a369-ba81-4ce3-ad27-98e97a35db69"
      },
      "source": [
        "input_list_str = input(\"Enter a list of elements separated by spaces: \")\n",
        "input_list = input_list_str.split()\n",
        "\n",
        "if input_list:\n",
        "    last_element = input_list.pop()\n",
        "    input_list.insert(0, last_element)\n",
        "\n",
        "print(\"Rotated list:\")\n",
        "print(input_list)"
      ],
      "execution_count": 4,
      "outputs": [
        {
          "output_type": "stream",
          "name": "stdout",
          "text": [
            "Enter a list of elements separated by spaces: 1 2 9 8 6\n",
            "Rotated list:\n",
            "['6', '1', '2', '9', '8']\n"
          ]
        }
      ]
    },
    {
      "cell_type": "markdown",
      "metadata": {
        "id": "69b51f31"
      },
      "source": [
        "5. Write a program that input a string and ask user to delete a given word from a string.  "
      ]
    },
    {
      "cell_type": "code",
      "metadata": {
        "colab": {
          "base_uri": "https://localhost:8080/"
        },
        "id": "2080c3ee",
        "outputId": "6b40f216-9189-464a-ca63-d4d31de144e2"
      },
      "source": [
        "input_string = input(\"Enter a string: \")\n",
        "word_to_delete = input(\"Enter the word to delete: \")\n",
        "\n",
        "output_string = input_string.replace(word_to_delete, \"\").strip()\n",
        "\n",
        "print(\"String after deleting the word:\")\n",
        "print(output_string)"
      ],
      "execution_count": 5,
      "outputs": [
        {
          "output_type": "stream",
          "name": "stdout",
          "text": [
            "Enter a string: 2 3 7 6 3\n",
            "Enter the word to delete: 7\n",
            "String after deleting the word:\n",
            "2 3  6 3\n"
          ]
        }
      ]
    },
    {
      "cell_type": "markdown",
      "metadata": {
        "id": "42a7d07e"
      },
      "source": [
        "6. Write a program that reads a string from the user containing a date in the form mm/dd/yyyy. It\n",
        "should print the date in the form March 12, 2021.  "
      ]
    },
    {
      "cell_type": "code",
      "metadata": {
        "colab": {
          "base_uri": "https://localhost:8080/"
        },
        "id": "1a85e297",
        "outputId": "2768424f-4a84-4503-d5e4-e79fe29328cc"
      },
      "source": [
        "from datetime import datetime\n",
        "\n",
        "date_string = input(\"Enter a date in mm/dd/yyyy format: \")\n",
        "\n",
        "try:\n",
        "    date_object = datetime.strptime(date_string, \"%m/%d/%Y\")\n",
        "    formatted_date = date_object.strftime(\"%B %d, %Y\")\n",
        "    print(\"Formatted date:\")\n",
        "    print(formatted_date)\n",
        "except ValueError:\n",
        "    print(\"Invalid date format. Please enter the date in mm/dd/yyyy format.\")"
      ],
      "execution_count": 6,
      "outputs": [
        {
          "output_type": "stream",
          "name": "stdout",
          "text": [
            "Enter a date in mm/dd/yyyy format: 03/15/2023\n",
            "Formatted date:\n",
            "March 15, 2023\n"
          ]
        }
      ]
    },
    {
      "cell_type": "markdown",
      "metadata": {
        "id": "b1230cd3"
      },
      "source": [
        "7. Write a program with a function that accepts a string from keyboard and create a new string after\n",
        "converting character of each word capitalized. For instance, if the sentence is \"stop and smell the roses.\"\n",
        "the output should be \"Stop And Smell The Roses\""
      ]
    },
    {
      "cell_type": "code",
      "metadata": {
        "colab": {
          "base_uri": "https://localhost:8080/"
        },
        "id": "08915678",
        "outputId": "e0531cb9-f708-40e5-e320-ecec59640485"
      },
      "source": [
        "def capitalize_words(input_string):\n",
        "    return input_string.title()\n",
        "\n",
        "input_string = input(\"Enter a sentence: \")\n",
        "capitalized_string = capitalize_words(input_string)\n",
        "\n",
        "print(\"Capitalized string:\")\n",
        "print(capitalized_string)"
      ],
      "execution_count": 7,
      "outputs": [
        {
          "output_type": "stream",
          "name": "stdout",
          "text": [
            "Enter a sentence: stop and smell the roses.\n",
            "Capitalized string:\n",
            "Stop And Smell The Roses.\n"
          ]
        }
      ]
    },
    {
      "cell_type": "markdown",
      "metadata": {
        "id": "0792bf96"
      },
      "source": [
        "8. Find the sum of each row of matrix of size m x n. For example for the following matrix output will be\n",
        "like this :\n",
        "Sum of row 1 = 32\n",
        "Sum of row 2 = 31\n",
        "Sum of row 3 = 63\n",
        "\n",
        "2 11 7 12\n",
        "5 2  9 15\n",
        "8  3  10 42"
      ]
    },
    {
      "cell_type": "code",
      "metadata": {
        "colab": {
          "base_uri": "https://localhost:8080/"
        },
        "id": "e17c9b58",
        "outputId": "e501bb91-ddb6-4b11-d017-daaeda9f0ba5"
      },
      "source": [
        "matrix = [\n",
        "    [2, 11, 7, 12],\n",
        "    [5, 2, 9, 15],\n",
        "    [8, 3, 10, 42]\n",
        "]\n",
        "\n",
        "for i, row in enumerate(matrix):\n",
        "    row_sum = sum(row)\n",
        "    print(f\"Sum of row {i + 1} = {row_sum}\")"
      ],
      "execution_count": 8,
      "outputs": [
        {
          "output_type": "stream",
          "name": "stdout",
          "text": [
            "Sum of row 1 = 32\n",
            "Sum of row 2 = 31\n",
            "Sum of row 3 = 63\n"
          ]
        }
      ]
    },
    {
      "cell_type": "markdown",
      "metadata": {
        "id": "41924d72"
      },
      "source": [
        "9. Write a program to add two matrices of size n x m."
      ]
    },
    {
      "cell_type": "code",
      "metadata": {
        "colab": {
          "base_uri": "https://localhost:8080/"
        },
        "id": "0d9626b9",
        "outputId": "fe667cc5-9a6d-413e-c9be-096b572fdbde"
      },
      "source": [
        "matrix1 = [\n",
        "    [1, 2, 3],\n",
        "    [4, 5, 6],\n",
        "    [7, 8, 9]\n",
        "]\n",
        "\n",
        "matrix2 = [\n",
        "    [9, 8, 7],\n",
        "    [6, 5, 4],\n",
        "    [3, 2, 1]\n",
        "]\n",
        "\n",
        "rows = len(matrix1)\n",
        "cols = len(matrix1[0])\n",
        "\n",
        "result_matrix = [[0 for _ in range(cols)] for _ in range(rows)]\n",
        "\n",
        "for i in range(rows):\n",
        "    for j in range(cols):\n",
        "        result_matrix[i][j] = matrix1[i][j] + matrix2[i][j]\n",
        "\n",
        "print(\"Sum of the two matrices:\")\n",
        "for row in result_matrix:\n",
        "    print(row)"
      ],
      "execution_count": 9,
      "outputs": [
        {
          "output_type": "stream",
          "name": "stdout",
          "text": [
            "Sum of the two matrices:\n",
            "[10, 10, 10]\n",
            "[10, 10, 10]\n",
            "[10, 10, 10]\n"
          ]
        }
      ]
    },
    {
      "cell_type": "markdown",
      "metadata": {
        "id": "1b5ed64e"
      },
      "source": [
        "10. Write a program to multiply two matrices."
      ]
    },
    {
      "cell_type": "code",
      "metadata": {
        "colab": {
          "base_uri": "https://localhost:8080/"
        },
        "id": "21950dfc",
        "outputId": "e2684bcf-991f-4739-9547-c556deb01518"
      },
      "source": [
        "matrix1 = [\n",
        "    [1, 2, 3],\n",
        "    [4, 5, 6]\n",
        "]\n",
        "\n",
        "matrix2 = [\n",
        "    [7, 8],\n",
        "    [9, 10],\n",
        "    [11, 12]\n",
        "]\n",
        "\n",
        "rows_matrix1 = len(matrix1)\n",
        "cols_matrix1 = len(matrix1[0])\n",
        "rows_matrix2 = len(matrix2)\n",
        "cols_matrix2 = len(matrix2[0])\n",
        "\n",
        "if cols_matrix1 != rows_matrix2:\n",
        "    print(\"Matrix multiplication is not possible. Number of columns in the first matrix must equal the number of rows in the second matrix.\")\n",
        "else:\n",
        "    result_matrix = [[0 for _ in range(cols_matrix2)] for _ in range(rows_matrix1)]\n",
        "\n",
        "    for i in range(rows_matrix1):\n",
        "        for j in range(cols_matrix2):\n",
        "            for k in range(cols_matrix1):\n",
        "                result_matrix[i][j] += matrix1[i][k] * matrix2[k][j]\n",
        "\n",
        "    print(\"Result of matrix multiplication:\")\n",
        "    for row in result_matrix:\n",
        "        print(row)"
      ],
      "execution_count": 10,
      "outputs": [
        {
          "output_type": "stream",
          "name": "stdout",
          "text": [
            "Result of matrix multiplication:\n",
            "[58, 64]\n",
            "[139, 154]\n"
          ]
        }
      ]
    }
  ]
}