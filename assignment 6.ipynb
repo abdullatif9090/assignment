{
 "cells": [
  {
   "cell_type": "markdown",
   "id": "c3ed4287-023b-4801-9b6c-492425aa755b",
   "metadata": {},
   "source": [
    "1) Write a Python program to create a class representing a Circle. Include methods to calculate its area and perimeter.\n",
    "\n",
    "2) Write a Python program to create a person class. Include attributes like name, country and date of birth. Implement a method to determine the person's age.\n",
    "\n",
    "3) Write a Python program to create a calculator class. Include methods for basic arithmetic operations"
   ]
  },
  {
   "cell_type": "markdown",
   "id": "96b99f0c-0e03-49a0-af23-8d319017b995",
   "metadata": {},
   "source": [
    " ### 1- Write a Python program to create a class representing a Circle. Include methods to calculate its area and perimeter"
   ]
  },
  {
   "cell_type": "code",
   "execution_count": 1,
   "id": "3b0d3894-9b50-4455-9234-fa5f51d7e1dc",
   "metadata": {},
   "outputs": [],
   "source": [
    "class circle():\n",
    "    def area(self,radius):\n",
    "        ar = 3.14*(radius**2)\n",
    "        print(ar)\n",
    "    def perameter(self,radius):\n",
    "        pera = 2*3.14*radius\n",
    "        print(pera)"
   ]
  },
  {
   "cell_type": "code",
   "execution_count": 2,
   "id": "e964183c-0306-4c89-a072-ea27ba85faae",
   "metadata": {},
   "outputs": [],
   "source": [
    "circle_obj = circle()"
   ]
  },
  {
   "cell_type": "code",
   "execution_count": 3,
   "id": "c239944a-846b-4189-a509-a7d62c2059b1",
   "metadata": {},
   "outputs": [
    {
     "name": "stdout",
     "output_type": "stream",
     "text": [
      "153.86\n"
     ]
    }
   ],
   "source": [
    "circle_obj.area(7)"
   ]
  },
  {
   "cell_type": "code",
   "execution_count": 4,
   "id": "1bf96e36-0c21-4d3f-b5bb-de419ff0e260",
   "metadata": {},
   "outputs": [
    {
     "name": "stdout",
     "output_type": "stream",
     "text": [
      "43.96\n"
     ]
    }
   ],
   "source": [
    "circle_obj.perameter(7)"
   ]
  },
  {
   "cell_type": "markdown",
   "id": "cd554cd4-f1bb-4195-9dca-926c8b0b15b4",
   "metadata": {},
   "source": [
    "### 2) Write a Python program to create a person class. Include attributes like name, country and date of birth. Implement a method to determine the person's age"
   ]
  },
  {
   "cell_type": "code",
   "execution_count": 2,
   "id": "4dc056d1-2df5-4be9-a4f0-da873d43dea8",
   "metadata": {},
   "outputs": [],
   "source": [
    "class person():\n",
    "    def __init__(self,name,country,dofb):\n",
    "        self.name = name\n",
    "        self.country = country\n",
    "        self.dofb = dofb\n",
    "\n",
    "    def per_age(self,age):\n",
    "        print(f\"your age is :{age}\")"
   ]
  },
  {
   "cell_type": "code",
   "execution_count": 3,
   "id": "5acea67f-6765-484f-8cd7-8da911086e59",
   "metadata": {},
   "outputs": [],
   "source": [
    "per_obj = person(\"sultan\",\"germany\",2007)"
   ]
  },
  {
   "cell_type": "code",
   "execution_count": 4,
   "id": "7cffc3fd-15cf-4e64-b3b0-78ea05a49b4b",
   "metadata": {},
   "outputs": [
    {
     "data": {
      "text/plain": [
       "2007"
      ]
     },
     "execution_count": 4,
     "metadata": {},
     "output_type": "execute_result"
    }
   ],
   "source": [
    "per_obj.dofb"
   ]
  },
  {
   "cell_type": "code",
   "execution_count": 5,
   "id": "54996632-165c-4a45-bd9b-742b94dd0728",
   "metadata": {},
   "outputs": [
    {
     "data": {
      "text/plain": [
       "'sultan'"
      ]
     },
     "execution_count": 5,
     "metadata": {},
     "output_type": "execute_result"
    }
   ],
   "source": [
    "per_obj.name"
   ]
  },
  {
   "cell_type": "code",
   "execution_count": 6,
   "id": "5d92465b-8bd2-48c1-85d7-615e76a848c2",
   "metadata": {},
   "outputs": [
    {
     "data": {
      "text/plain": [
       "'germany'"
      ]
     },
     "execution_count": 6,
     "metadata": {},
     "output_type": "execute_result"
    }
   ],
   "source": [
    "per_obj.country"
   ]
  },
  {
   "cell_type": "code",
   "execution_count": 8,
   "id": "969a141a-ff23-4d4d-ad00-1f9bf0033ef0",
   "metadata": {},
   "outputs": [
    {
     "name": "stdout",
     "output_type": "stream",
     "text": [
      "your age is :34\n"
     ]
    }
   ],
   "source": [
    "per_obj.per_age(34)"
   ]
  },
  {
   "cell_type": "markdown",
   "id": "8616d98b-a995-4558-900d-39e17b5ebe4f",
   "metadata": {},
   "source": [
    "### 3) Write a Python program to create a calculator class. Include methods for basic arithmetic operations"
   ]
  },
  {
   "cell_type": "code",
   "execution_count": 9,
   "id": "58624bca-95a6-46c6-ba6c-1c0cc3f6940b",
   "metadata": {},
   "outputs": [],
   "source": [
    "class calculator():\n",
    "    def sum(self,a,b):\n",
    "        plus = a+b\n",
    "        print(plus)\n",
    "    def multyply(self,a,b):\n",
    "        multy = a*b\n",
    "        print(multy)\n",
    "    def minus(self,a,b):\n",
    "        minu = a-b\n",
    "        print(minu)\n",
    "    def divition(self,a,b):\n",
    "        divid = a/b\n",
    "        print(divid)"
   ]
  },
  {
   "cell_type": "code",
   "execution_count": 3,
   "id": "4bdf433f-66d4-47ff-8b79-056334de2730",
   "metadata": {},
   "outputs": [],
   "source": [
    "cal_obj = calculator()"
   ]
  },
  {
   "cell_type": "code",
   "execution_count": 4,
   "id": "0d0263ef-5867-42fb-b6de-516778cf555a",
   "metadata": {},
   "outputs": [
    {
     "name": "stdout",
     "output_type": "stream",
     "text": [
      "5.0\n"
     ]
    }
   ],
   "source": [
    "cal_obj.divition(10,2)"
   ]
  },
  {
   "cell_type": "code",
   "execution_count": 1,
   "id": "89954e66-9ac2-4c90-b9d5-0a12beacdad1",
   "metadata": {},
   "outputs": [
    {
     "ename": "NameError",
     "evalue": "name 'cal_obj' is not defined",
     "output_type": "error",
     "traceback": [
      "\u001b[1;31m---------------------------------------------------------------------------\u001b[0m",
      "\u001b[1;31mNameError\u001b[0m                                 Traceback (most recent call last)",
      "Cell \u001b[1;32mIn[1], line 1\u001b[0m\n\u001b[1;32m----> 1\u001b[0m cal_obj\u001b[38;5;241m.\u001b[39mminus(\u001b[38;5;241m10\u001b[39m,\u001b[38;5;241m2\u001b[39m)\n",
      "\u001b[1;31mNameError\u001b[0m: name 'cal_obj' is not defined"
     ]
    }
   ],
   "source": [
    "cal_obj.minus(10,2)"
   ]
  },
  {
   "cell_type": "code",
   "execution_count": null,
   "id": "47e3dbfd-bf49-4654-a4a3-b8be984215ca",
   "metadata": {},
   "outputs": [],
   "source": []
  }
 ],
 "metadata": {
  "kernelspec": {
   "display_name": "Python 3 (ipykernel)",
   "language": "python",
   "name": "python3"
  },
  "language_info": {
   "codemirror_mode": {
    "name": "ipython",
    "version": 3
   },
   "file_extension": ".py",
   "mimetype": "text/x-python",
   "name": "python",
   "nbconvert_exporter": "python",
   "pygments_lexer": "ipython3",
   "version": "3.13.5"
  }
 },
 "nbformat": 4,
 "nbformat_minor": 5
}
