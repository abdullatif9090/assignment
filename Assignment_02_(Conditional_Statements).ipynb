{
  "cells": [
    {
      "cell_type": "markdown",
      "metadata": {
        "id": "ZeZ9Cs6C8Sw7"
      },
      "source": [
        "1) A company decided to give bonus of 5% to employee if his/her year of service is more than 5 years.\n",
        "Ask user for their salary and year of service and print the net bonus amount."
      ]
    },
    {
      "cell_type": "code",
      "execution_count": 1,
      "metadata": {
        "colab": {
          "base_uri": "https://localhost:8080/"
        },
        "id": "YOszTiby8Sw9",
        "outputId": "9c7f1ec4-a9f2-4f1b-d28c-c4fa4b775a30"
      },
      "outputs": [
        {
          "output_type": "stream",
          "name": "stdout",
          "text": [
            "Enter your salary: 10000\n",
            "Enter your years of service: 6\n",
            "Your net bonus amount is: 500.0\n"
          ]
        }
      ],
      "source": [
        "salary = float(input(\"Enter your salary: \"))\n",
        "years_of_service = int(input(\"Enter your years of service: \"))\n",
        "\n",
        "if years_of_service > 5:\n",
        "  bonus = 0.05 * salary\n",
        "  print(f\"Your net bonus amount is: {bonus}\")\n",
        "else:\n",
        "  print(\"You are not eligible for a bonus.\")"
      ]
    },
    {
      "cell_type": "markdown",
      "metadata": {
        "id": "BnTjEXUB8Sw-"
      },
      "source": [
        "\n",
        "2) Write a program to check whether a person is eligible for voting or not. (accept age from user) if age is greater than 17 eligible otherwise not eligible"
      ]
    },
    {
      "cell_type": "code",
      "execution_count": 2,
      "metadata": {
        "colab": {
          "base_uri": "https://localhost:8080/"
        },
        "id": "n-sGG0N48Sw_",
        "outputId": "41a721b4-e790-4afd-a0b4-669a97cafc69"
      },
      "outputs": [
        {
          "output_type": "stream",
          "name": "stdout",
          "text": [
            "Enter your age: 18\n",
            "You are eligible for voting.\n"
          ]
        }
      ],
      "source": [
        "age = int(input(\"Enter your age: \"))\n",
        "\n",
        "if age > 17:\n",
        "  print(\"You are eligible for voting.\")\n",
        "else:\n",
        "  print(\"You are not eligible for voting.\")"
      ]
    },
    {
      "cell_type": "markdown",
      "metadata": {
        "id": "LDC-E9SG8SxA"
      },
      "source": [
        "\n",
        "3) Write a program to check whether a number entered by user is even or odd."
      ]
    },
    {
      "cell_type": "code",
      "execution_count": 3,
      "metadata": {
        "colab": {
          "base_uri": "https://localhost:8080/"
        },
        "id": "xDIAej_w8SxA",
        "outputId": "1c974339-80c8-406d-d071-13fc2532b217"
      },
      "outputs": [
        {
          "output_type": "stream",
          "name": "stdout",
          "text": [
            "Enter a number: 50\n",
            "The number is even.\n"
          ]
        }
      ],
      "source": [
        "number = int(input(\"Enter a number: \"))\n",
        "\n",
        "if number % 2 == 0:\n",
        "  print(\"The number is even.\")\n",
        "else:\n",
        "  print(\"The number is odd.\")"
      ]
    },
    {
      "cell_type": "markdown",
      "metadata": {
        "id": "zJS1uDYG8SxA"
      },
      "source": [
        "4) Write a program to check whether a number is divisible by 7 or not.\n",
        "Show Answer"
      ]
    },
    {
      "cell_type": "code",
      "execution_count": 4,
      "metadata": {
        "colab": {
          "base_uri": "https://localhost:8080/"
        },
        "id": "lOas7d5m8SxB",
        "outputId": "cd4824ec-8455-4d37-d12c-fe1fb891bc65"
      },
      "outputs": [
        {
          "output_type": "stream",
          "name": "stdout",
          "text": [
            "Enter a number: 49\n",
            "The number is divisible by 7.\n"
          ]
        }
      ],
      "source": [
        "number = int(input(\"Enter a number: \"))\n",
        "\n",
        "if number % 7 == 0:\n",
        "  print(\"The number is divisible by 7.\")\n",
        "else:\n",
        "  print(\"The number is not divisible by 7.\")"
      ]
    },
    {
      "cell_type": "markdown",
      "metadata": {
        "id": "eCFb7g2E8SxB"
      },
      "source": [
        "5) Write a program to display\n",
        "\"Hello\" if a number entered by user is a multiple of five , otherwise print \"Bye\"."
      ]
    },
    {
      "cell_type": "code",
      "execution_count": 5,
      "metadata": {
        "colab": {
          "base_uri": "https://localhost:8080/"
        },
        "id": "FY6mtVeM8SxB",
        "outputId": "42cb4666-0ff0-48e6-d48c-204acbedf683"
      },
      "outputs": [
        {
          "output_type": "stream",
          "name": "stdout",
          "text": [
            "Enter a number: 100\n",
            "Hello\n"
          ]
        }
      ],
      "source": [
        "number = int(input(\"Enter a number: \"))\n",
        "\n",
        "if number % 5 == 0:\n",
        "  print(\"Hello\")\n",
        "else:\n",
        "  print(\"Bye\")"
      ]
    },
    {
      "cell_type": "markdown",
      "metadata": {
        "id": "4lJCroOI8SxC"
      },
      "source": [
        "7) Write a program to display the last digit of a number.\n"
      ]
    },
    {
      "cell_type": "code",
      "execution_count": 6,
      "metadata": {
        "colab": {
          "base_uri": "https://localhost:8080/"
        },
        "id": "t9wMlIY78SxC",
        "outputId": "f0d0cbc7-88dc-4e50-801c-7f4738e9be7c"
      },
      "outputs": [
        {
          "output_type": "stream",
          "name": "stdout",
          "text": [
            "Enter a number: 800\n",
            "The last digit of the number is: 0\n"
          ]
        }
      ],
      "source": [
        "number = int(input(\"Enter a number: \"))\n",
        "last_digit = number % 10\n",
        "print(f\"The last digit of the number is: {last_digit}\")"
      ]
    },
    {
      "cell_type": "markdown",
      "metadata": {
        "id": "n5tHMgIX8SxC"
      },
      "source": [
        "9) Take values of length and breadth of a rectangle from user and print if it is square or rectangle."
      ]
    },
    {
      "cell_type": "code",
      "execution_count": 7,
      "metadata": {
        "colab": {
          "base_uri": "https://localhost:8080/"
        },
        "id": "zx8IKc2Y8SxC",
        "outputId": "73472bf2-927e-4ca5-b617-dea21d1469af"
      },
      "outputs": [
        {
          "output_type": "stream",
          "name": "stdout",
          "text": [
            "Enter the length of the rectangle: 5\n",
            "Enter the breadth of the rectangle: 5\n",
            "It is a square.\n"
          ]
        }
      ],
      "source": [
        "length = float(input(\"Enter the length of the rectangle: \"))\n",
        "breadth = float(input(\"Enter the breadth of the rectangle: \"))\n",
        "\n",
        "if length == breadth:\n",
        "  print(\"It is a square.\")\n",
        "else:\n",
        "  print(\"It is a rectangle.\")"
      ]
    },
    {
      "cell_type": "markdown",
      "metadata": {
        "id": "yHh7ybZJ8SxD"
      },
      "source": [
        "10) Take two int values from user and print greatest among them."
      ]
    },
    {
      "cell_type": "code",
      "execution_count": 8,
      "metadata": {
        "colab": {
          "base_uri": "https://localhost:8080/"
        },
        "id": "CDx7rno68SxD",
        "outputId": "e69078cd-b3b1-4c1b-8a1f-577759598f09"
      },
      "outputs": [
        {
          "output_type": "stream",
          "name": "stdout",
          "text": [
            "Enter the first number: 10\n",
            "Enter the second number: 20\n",
            "The greatest number is: 20\n"
          ]
        }
      ],
      "source": [
        "num1 = int(input(\"Enter the first number: \"))\n",
        "num2 = int(input(\"Enter the second number: \"))\n",
        "\n",
        "if num1 > num2:\n",
        "  print(f\"The greatest number is: {num1}\")\n",
        "else:\n",
        "  print(f\"The greatest number is: {num2}\")"
      ]
    },
    {
      "cell_type": "markdown",
      "metadata": {
        "id": "Antc9dTH8SxD"
      },
      "source": [
        "11) A shop will give discount of 10% if the cost of purchased quantity is more than 1000.\n",
        "Ask user for quantity\n",
        "Suppose, one unit will cost 100.\n",
        "Judge and print total cost for user."
      ]
    },
    {
      "cell_type": "code",
      "execution_count": 9,
      "metadata": {
        "colab": {
          "base_uri": "https://localhost:8080/"
        },
        "id": "EWj1PFOJ8SxD",
        "outputId": "10a74bce-55fe-40be-e588-893dd81b86ec"
      },
      "outputs": [
        {
          "output_type": "stream",
          "name": "stdout",
          "text": [
            "Enter the quantity purchased: 19\n",
            "The total cost is: 1710.0\n"
          ]
        }
      ],
      "source": [
        "quantity = int(input(\"Enter the quantity purchased: \"))\n",
        "cost_per_unit = 100\n",
        "total_cost = quantity * cost_per_unit\n",
        "\n",
        "if total_cost > 1000:\n",
        "  discount = 0.10 * total_cost\n",
        "  total_cost -= discount\n",
        "\n",
        "print(f\"The total cost is: {total_cost}\")"
      ]
    },
    {
      "cell_type": "markdown",
      "metadata": {
        "id": "uiGWhNXx8SxE"
      },
      "source": [
        "12) A school has following rules for grading system:\n",
        "\n",
        "a. Below 25 - F\n",
        "\n",
        "b. 25 to 45 - E\n",
        "\n",
        "c. 45 to 50 - D\n",
        "\n",
        "d. 50 to 60 - C\n",
        "\n",
        "e. 60 to 80 - B\n",
        "\n",
        "f. Above 80 - A\n",
        "\n",
        "Ask user to enter marks and print the corresponding grade."
      ]
    },
    {
      "cell_type": "code",
      "execution_count": 10,
      "metadata": {
        "colab": {
          "base_uri": "https://localhost:8080/"
        },
        "id": "khzkonOX8SxE",
        "outputId": "56bf6463-89ca-45e6-a598-5be49734cdee"
      },
      "outputs": [
        {
          "output_type": "stream",
          "name": "stdout",
          "text": [
            "Enter the marks: 50\n",
            "The corresponding grade is: C\n"
          ]
        }
      ],
      "source": [
        "marks = float(input(\"Enter the marks: \"))\n",
        "\n",
        "if marks < 25:\n",
        "  grade = \"F\"\n",
        "elif 25 <= marks < 45:\n",
        "  grade = \"E\"\n",
        "elif 45 <= marks < 50:\n",
        "  grade = \"D\"\n",
        "elif 50 <= marks < 60:\n",
        "  grade = \"C\"\n",
        "elif 60 <= marks < 80:\n",
        "  grade = \"B\"\n",
        "else:\n",
        "  grade = \"A\"\n",
        "\n",
        "print(f\"The corresponding grade is: {grade}\")"
      ]
    },
    {
      "cell_type": "markdown",
      "metadata": {
        "id": "K4AjDef18SxE"
      },
      "source": [
        "14)A student will not be allowed to sit in exam if his/her attendence is less than 75%.\n",
        "\n",
        "Take following input from user\n",
        "\n",
        "Number of classes held\n",
        "\n",
        "Number of classes attended.\n",
        "\n",
        "And print\n",
        "\n",
        "percentage of class attended\n",
        "\n",
        "Is student is allowed to sit in exam or not.\n"
      ]
    },
    {
      "cell_type": "code",
      "execution_count": 11,
      "metadata": {
        "colab": {
          "base_uri": "https://localhost:8080/"
        },
        "id": "BfLVB9TO8SxE",
        "outputId": "785b096d-e6ea-4559-e2dd-5e6aca43a771"
      },
      "outputs": [
        {
          "output_type": "stream",
          "name": "stdout",
          "text": [
            "Enter the number of classes held: 10\n",
            "Enter the number of classes attended: 9\n",
            "Percentage of classes attended: 90.00%\n",
            "You are allowed to sit in the exam.\n"
          ]
        }
      ],
      "source": [
        "classes_held = int(input(\"Enter the number of classes held: \"))\n",
        "classes_attended = int(input(\"Enter the number of classes attended: \"))\n",
        "\n",
        "attendance_percentage = (classes_attended / classes_held) * 100\n",
        "\n",
        "print(f\"Percentage of classes attended: {attendance_percentage:.2f}%\")\n",
        "\n",
        "if attendance_percentage >= 75:\n",
        "  print(\"You are allowed to sit in the exam.\")\n",
        "else:\n",
        "  print(\"You are not allowed to sit in the exam.\")"
      ]
    },
    {
      "cell_type": "markdown",
      "metadata": {
        "id": "FtgSj4U08SxF"
      },
      "source": [
        "15) Modify the above question to allow student to sit if he/she has medical cause. Ask user if he/she has medical cause or not ( 'Y' or 'N' ) and print accordingly."
      ]
    },
    {
      "cell_type": "code",
      "execution_count": 12,
      "metadata": {
        "colab": {
          "base_uri": "https://localhost:8080/"
        },
        "id": "ZFA6aOVV8SxF",
        "outputId": "fa523502-b8b2-4ddf-8e37-9692f1d414d0"
      },
      "outputs": [
        {
          "output_type": "stream",
          "name": "stdout",
          "text": [
            "Enter the number of classes held: 10\n",
            "Enter the number of classes attended: 9\n",
            "Do you have a medical cause? (Y/N): N\n",
            "Percentage of classes attended: 90.00%\n",
            "You are allowed to sit in the exam.\n"
          ]
        }
      ],
      "source": [
        "classes_held = int(input(\"Enter the number of classes held: \"))\n",
        "classes_attended = int(input(\"Enter the number of classes attended: \"))\n",
        "medical_cause = input(\"Do you have a medical cause? (Y/N): \").upper()\n",
        "\n",
        "attendance_percentage = (classes_attended / classes_held) * 100\n",
        "\n",
        "print(f\"Percentage of classes attended: {attendance_percentage:.2f}%\")\n",
        "\n",
        "if attendance_percentage >= 75 or medical_cause == 'Y':\n",
        "  print(\"You are allowed to sit in the exam.\")\n",
        "else:\n",
        "  print(\"You are not allowed to sit in the exam.\")"
      ]
    },
    {
      "cell_type": "markdown",
      "metadata": {
        "id": "ZgQy4l3y8SxF"
      },
      "source": [
        "16) Write a program to check if a year is leap year or not.\n",
        "\n",
        "If a year is divisible by 4 then it is leap year but if the year is century year like 2000, 1900, 2100 then it must be divisible by 400."
      ]
    },
    {
      "cell_type": "code",
      "execution_count": 13,
      "metadata": {
        "colab": {
          "base_uri": "https://localhost:8080/"
        },
        "id": "oAf_kbHd8SxF",
        "outputId": "ee0b1bc6-0698-4137-98be-79f8cca9914c"
      },
      "outputs": [
        {
          "output_type": "stream",
          "name": "stdout",
          "text": [
            "Enter a year: 50\n",
            "50 is not a leap year.\n"
          ]
        }
      ],
      "source": [
        "year = int(input(\"Enter a year: \"))\n",
        "\n",
        "if (year % 4 == 0 and year % 100 != 0) or (year % 400 == 0):\n",
        "  print(f\"{year} is a leap year.\")\n",
        "else:\n",
        "  print(f\"{year} is not a leap year.\")"
      ]
    },
    {
      "cell_type": "markdown",
      "metadata": {
        "id": "51rH6cJs8SxF"
      },
      "source": [
        "17) Ask user to enter age, gender ( M or F ), marital status ( Y or N ) and then using following rules print their place of service.\n",
        "\n",
        "if employee is female, then she will work only in urban areas.\n",
        "\n",
        "if employee is a male and age is in between 20 to 40 then he may work in anywhere\n",
        "\n",
        "if employee is male and age is in between 40 t0 60 then he will work in urban areas only.\n",
        "\n",
        "And any other input of age should print \"ERROR\""
      ]
    },
    {
      "cell_type": "code",
      "execution_count": 14,
      "metadata": {
        "colab": {
          "base_uri": "https://localhost:8080/"
        },
        "id": "pN3wKHKD8SxG",
        "outputId": "aebe4447-4dad-4d90-8c4d-e462b99c7653"
      },
      "outputs": [
        {
          "output_type": "stream",
          "name": "stdout",
          "text": [
            "Enter age: 18\n",
            "Enter gender (M/F): M\n",
            "Enter marital status (Y/N): N\n",
            "ERROR\n"
          ]
        }
      ],
      "source": [
        "age = int(input(\"Enter age: \"))\n",
        "gender = input(\"Enter gender (M/F): \").upper()\n",
        "marital_status = input(\"Enter marital status (Y/N): \").upper()\n",
        "\n",
        "if gender == 'F':\n",
        "  print(\"Place of service: Urban areas\")\n",
        "elif gender == 'M' and 20 <= age <= 40:\n",
        "  print(\"Place of service: Anywhere\")\n",
        "elif gender == 'M' and 40 < age <= 60:\n",
        "  print(\"Place of service: Urban areas only\")\n",
        "else:\n",
        "  print(\"ERROR\")"
      ]
    },
    {
      "cell_type": "markdown",
      "metadata": {
        "id": "91EU-wen8SxG"
      },
      "source": [
        "6) Write a program to calculate the electricity bill (accept number of unit from user) according to the following criteria :\n",
        "     Unit                                                     Price  \n",
        "uptp 100 units                                             no charge\n",
        "Next 200 units                                              Rs 5 per unit\n",
        "After 200 units                                             Rs 10 per unit\n",
        "(For example if input unit is 350 than total bill amount is Rs.3500\n",
        "(For example if input unit is 97 than total bill amount is Rs.0\n",
        "(For example if input unit is 150 than total bill amount is Rs.750"
      ]
    },
    {
      "cell_type": "markdown",
      "metadata": {
        "id": "lAl_4R_Y8SxG"
      },
      "source": [
        "13) Take input of age of 3 people by user and determine oldest and youngest among them."
      ]
    },
    {
      "cell_type": "code",
      "execution_count": 15,
      "metadata": {
        "colab": {
          "base_uri": "https://localhost:8080/"
        },
        "id": "Rh0UBJfY8SxG",
        "outputId": "3eea20a8-3c76-48d0-95c6-17dc1b0ff8fb"
      },
      "outputs": [
        {
          "output_type": "stream",
          "name": "stdout",
          "text": [
            "Enter age of person 1: 19\n",
            "Enter age of person 2: 29\n",
            "Enter age of person 3: 39\n",
            "The oldest person is 39 years old.\n",
            "The youngest person is 19 years old.\n"
          ]
        }
      ],
      "source": [
        "age1 = int(input(\"Enter age of person 1: \"))\n",
        "age2 = int(input(\"Enter age of person 2: \"))\n",
        "age3 = int(input(\"Enter age of person 3: \"))\n",
        "\n",
        "ages = [age1, age2, age3]\n",
        "\n",
        "oldest = max(ages)\n",
        "youngest = min(ages)\n",
        "\n",
        "print(f\"The oldest person is {oldest} years old.\")\n",
        "print(f\"The youngest person is {youngest} years old.\")"
      ]
    }
  ],
  "metadata": {
    "kernelspec": {
      "display_name": "Python 3 (ipykernel)",
      "language": "python",
      "name": "python3"
    },
    "language_info": {
      "codemirror_mode": {
        "name": "ipython",
        "version": 3
      },
      "file_extension": ".py",
      "mimetype": "text/x-python",
      "name": "python",
      "nbconvert_exporter": "python",
      "pygments_lexer": "ipython3",
      "version": "3.11.5"
    },
    "colab": {
      "provenance": []
    }
  },
  "nbformat": 4,
  "nbformat_minor": 0
}